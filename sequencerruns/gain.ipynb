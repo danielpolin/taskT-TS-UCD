{
 "cells": [
  {
   "cell_type": "code",
   "execution_count": 1,
   "id": "d4a12e73",
   "metadata": {},
   "outputs": [],
   "source": [
    "import numpy as np\n",
    "import time,subprocess,datetime,sys,glob,random\n",
    "from astropy.io import fits\n",
    "sys.path.append('/home/ccd/ucd-scripts/python-lib')\n",
    "import Email_Warning\n",
    "\n",
    "date=time.strftime(\"%Y%m%d\")\n",
    "imagedir='/mnt/10TBHDD/data/'+date"
   ]
  },
  {
   "cell_type": "code",
   "execution_count": 3,
   "id": "f9855f8c",
   "metadata": {
    "scrolled": true
   },
   "outputs": [],
   "source": [
    "def take_gain_flats(cfgfile):\n",
    "    try:\n",
    "        subprocess.run('ccs-script /home/ccd/ucd-scripts/ucd-data.py '+cfgfile,check=True, shell=True)\n",
    "    except:\n",
    "        power_light(\"off\")\n",
    "        raise Exception(\"Error in taking gain flats. Check on CCD state!\")\n",
    "    return\n",
    "\n",
    "def power_light(state):\n",
    "    if state==\"off\" or state==\"OFF\" or state==\"Off\":\n",
    "        subprocess.run('ccs-script /home/ccd/ucd-scripts/scripts/sphereOff.py',check=True, shell=True)\n",
    "    elif state==\"on\" or state==\"ON\" or state==\"On\":\n",
    "        subprocess.run('ccs-script /home/ccd/ucd-scripts/scripts/sphereOn.py',check=True, shell=True)"
   ]
  },
  {
   "cell_type": "code",
   "execution_count": 5,
   "id": "c7a27c6f",
   "metadata": {},
   "outputs": [],
   "source": [
    "def calculate_gains():\n",
    "    fitsfiles=np.array(glob.glob(imagedir+'/*.fits'))\n",
    "    filetypes=np.array([fits.getheader(name)[\"IMGTYPE\"] for name in fitsfiles])\n",
    "    flats=fitsfiles[np.where(filetypes==\"FLAT\")]\n",
    "    biases=fitsfiles[np.where(filetypes==\"BIAS\")]\n",
    "    if len(flats)!=2:\n",
    "        raise Exception(\"wrong number of fits images for gain estimation\")\n",
    "    fitsfiles.sort()\n",
    "\n",
    "    biasmedian=np.median(np.array([fits.getdata(bias,3) for bias in biases]))\n",
    "    lowmedian=np.median(fits.getdata(flats[0],3))\n",
    "    highmedian=np.median(fits.getdata(flats[1],3))\n",
    "    lowdiff=lowmedian-biasmedian\n",
    "    highdiff=highmedian-biasmedian\n",
    "\n",
    "    fivethousandADUintensitylow=(5000/lowdiff)\n",
    "    fivethousandADUintensityhigh=(5000/highdiff)*5\n",
    "    fivethousandADUintensity=(fivethousandADUintensitylow+fivethousandADUintensityhigh)/2\n",
    "\n",
    "    levels='''Bias level: '''+str(biasmedian)+'''\n",
    "    Low flat level: '''+str(lowmedian)+'''\n",
    "    High flat level: '''+str(highmedian)+'''\n",
    "\n",
    "    5,000ADU intensity: '''+str(fivethousandADUintensity)+'''\n",
    "    50,000 intensity: '''+str(fiftythousandADUintensity)\n",
    "    file = open(imagedir+'/gaininfo.txt', 'w')\n",
    "    file.write(levels)       \n",
    "    file.close()\n",
    "    \n",
    "    return fivethousandADUintensity\n",
    "    "
   ]
  },
  {
   "cell_type": "code",
   "execution_count": 9,
   "id": "2f1c4681",
   "metadata": {},
   "outputs": [],
   "source": [
    "fivethousandADU='1  6'\n",
    "fiftythousandADU='1  6'"
   ]
  },
  {
   "cell_type": "code",
   "execution_count": 2,
   "id": "122af602",
   "metadata": {},
   "outputs": [
    {
     "ename": "SyntaxError",
     "evalue": "invalid syntax (464492264.py, line 2)",
     "output_type": "error",
     "traceback": [
      "\u001b[0;36m  Input \u001b[0;32mIn [2]\u001b[0;36m\u001b[0m\n\u001b[0;31m    topint=fivethousandADUintensity*\u001b[0m\n\u001b[0m                                    ^\u001b[0m\n\u001b[0;31mSyntaxError\u001b[0m\u001b[0;31m:\u001b[0m invalid syntax\n"
     ]
    }
   ],
   "source": [
    "def find_ptc_values(resolution,fivethousandADUintensity):\n",
    "    topint=fivethousandADUintensity*5\n",
    "    minlamp=0.3\n",
    "    minexp=1.0\n",
    "    maxexp=15.0\n",
    "    maxlamp=67.9\n",
    "    bad1=6.4\n",
    "    bad2=12\n",
    "    ints=np.linspace(0.3,topint,resolution)\n",
    "    \n",
    "    #flat pairs\n",
    "    exp=minexp\n",
    "    explist=[]\n",
    "\n",
    "    for i in ints:\n",
    "        if minlamp<=i/exp<=bad1 or bad2<=i/exp<=maxlamp:\n",
    "            explist.append(str(exp)+\"   \"+str(\"{:.2f}\".format(i/exp))+\"  2,\")\n",
    "        elif bad1<=i/exp<=bad2:\n",
    "            explist.append(str(exp*2)+\"   \"+str(\"{:.2f}\".format(i/(exp*2)))+\"  2,\")\n",
    "        elif i/exp>=maxlamp:\n",
    "            while i/exp>=maxlamp:\n",
    "                exp+=0.5\n",
    "            explist.append(str(exp)+\"   \"+str(\"{:.2f}\".format(i/exp))+\"  2,\")\n",
    "    random.shuffle(explist)\n",
    "    explist[-1]=explist[-1][:-1]\n",
    "    ptcintensities=explist[0]\n",
    "    for i in explist[1:]:\n",
    "        ptcintensities=ptcintensities+'''\n",
    "    '''+i\n",
    "    return ptcintensities"
   ]
  },
  {
   "cell_type": "code",
   "execution_count": 11,
   "id": "5ab856ea",
   "metadata": {},
   "outputs": [
    {
     "name": "stdout",
     "output_type": "stream",
     "text": [
      "1.0   27.92  2,\n",
      "1.5   57.49  2,\n",
      "1.0   55.55  2,\n",
      "1.0   43.27  2,\n",
      "1.0   58.62  2,\n",
      "1.5   59.54  2,\n",
      "1.0   12.58  2,\n",
      "1.0   15.65  2,\n",
      "1.0   64.75  2,\n",
      "2.0   58.47  2,\n",
      "1.0   0.30  2,\n",
      "2.0   4.75  2,\n",
      "2.0   3.22  2,\n",
      "1.0   67.82  2,\n",
      "1.0   49.41  2,\n",
      "1.5   63.63  2,\n",
      "1.0   40.20  2,\n",
      "1.5   67.72  2,\n",
      "2.0   55.40  2,\n",
      "1.0   34.06  2,\n",
      "2.0   60.00  2,\n",
      "2.0   52.33  2,\n",
      "2.0   53.86  2,\n",
      "1.0   61.68  2,\n",
      "1.5   47.26  2,\n",
      "1.0   30.99  2,\n",
      "1.0   52.48  2,\n",
      "1.5   61.58  2,\n",
      "1.0   37.13  2,\n",
      "1.5   55.45  2,\n",
      "1.0   46.34  2,\n",
      "1.5   49.31  2,\n",
      "1.5   65.68  2,\n",
      "1.5   51.35  2,\n",
      "1.0   24.85  2,\n",
      "1.0   21.78  2,\n",
      "2.0   56.93  2,\n",
      "1.0   18.72  2,\n",
      "1.0   3.37  2,\n",
      "1.5   53.40  2\n"
     ]
    }
   ],
   "source": [
    "#flat pairs\n",
    "exp=minexp\n",
    "explist=[]\n",
    "\n",
    "for i in ints:\n",
    "    if minlamp<=i/exp<=bad1 or bad2<=i/exp<=maxlamp:\n",
    "        explist.append(str(exp)+\"   \"+str(\"{:.2f}\".format(i/exp))+\"  2,\")\n",
    "    elif bad1<=i/exp<=bad2:\n",
    "        explist.append(str(exp*2)+\"   \"+str(\"{:.2f}\".format(i/(exp*2)))+\"  2,\")\n",
    "    elif i/exp>=maxlamp:\n",
    "        while i/exp>=maxlamp:\n",
    "            exp+=0.5\n",
    "        explist.append(str(exp)+\"   \"+str(\"{:.2f}\".format(i/exp))+\"  2,\")\n",
    "random.shuffle(explist)\n",
    "explist[-1]=explist[-1][:-1]\n",
    "ptcintensities=explist[0]\n",
    "for i in explist[1:]:\n",
    "    ptcintensities=ptcintensities+'''\n",
    "'''+i\n",
    "print(ptcintensities)"
   ]
  },
  {
   "cell_type": "code",
   "execution_count": 8,
   "id": "5d93d6b2",
   "metadata": {},
   "outputs": [],
   "source": [
    "def find_persistence(fivethousandADUintensity,ADUlevel):\n",
    "    persistenceintensities=fivethousandADUintensity*ADUlevel/5000\n",
    "    persistenceexposure=1\n",
    "    while persistenceintensities>=maxlamp:\n",
    "        persistenceexposure*=2\n",
    "        persistenceintensities/=2\n",
    "    persistence=str(persistenceexposure)+\"  \"+str(persistenceintensities)\n",
    "    return persistence"
   ]
  },
  {
   "cell_type": "code",
   "execution_count": 9,
   "id": "4f6acabf",
   "metadata": {},
   "outputs": [],
   "source": [
    "def make_cfg(filename,fivethousandADUintensity,lowsuperflatADUlevel,highsuperflatADUlevel,ptc,persistence):\n",
    "    cfgfile='''#UCD Sequencer test file\n",
    "# \n",
    "# Acquisition sequences to run\n",
    "[ACQUIRE]\n",
    "bias1\n",
    "bias2\n",
    "bias3\n",
    "bias4\n",
    "dark\n",
    "superflat\n",
    "ptc\n",
    "persistenceflats\n",
    "persistencedarks\n",
    "\n",
    "[DESCRIPTION]\n",
    "A full run for a given sequencer file.\n",
    "\n",
    "[BIAS1]\n",
    "ACQTYPE=bias\n",
    "LOCATIONS = R21/Reb0        # locations to read\n",
    "COUNT     = 5              # number of bias frames\n",
    "EXTRADELAY = 0\n",
    "\n",
    "[BIAS2]\n",
    "ACQTYPE=bias\n",
    "LOCATIONS = R21/Reb0        # locations to read\n",
    "COUNT     = 5              # number of bias frames\n",
    "EXTRADELAY = 15\n",
    "\n",
    "[BIAS3]\n",
    "ACQTYPE=bias\n",
    "LOCATIONS = R21/Reb0        # locations to read\n",
    "COUNT     = 5              # number of bias frames\n",
    "EXTRADELAY = 30\n",
    "\n",
    "[BIAS4]\n",
    "ACQTYPE=bias\n",
    "LOCATIONS = R21/Reb0        # locations to read\n",
    "COUNT     = 5              # number of bias frames\n",
    "EXTRADELAY = 60\n",
    "\n",
    "[DARK]\n",
    "LOCATIONS=R21/Reb0\n",
    "DESCRIPTION=Darks.\n",
    "BCOUNT=    1      # number of bias frames per dark image\n",
    "dark= 30  5,      # integration time and image count for dark set\n",
    "      180 5,\n",
    "      360 5\n",
    "\n",
    "[SUPERFLAT]\n",
    "ACQTYPE=flat\n",
    "DESCRIPTION  = Superflat with 20 flats at 5000 and 50000 ADU.\n",
    "LOCATIONS    = R21/Reb0     # Locations to read\n",
    "BCOUNT       = 1            # number of bias frames per flat set\n",
    "WL           = r            # wavelength filter to use for the flats\n",
    "\n",
    "flat =  1  '''+str(fivethousandADUintensity*lowsuperflatADULevel/5000)+'''   25,    \n",
    "        1  '''+str(fivethousandADUintensity*highsuperflatADULevel/5000)+'''   25\n",
    "        \n",
    "        \n",
    "[PTC]\n",
    "ACQTYPE=flat\n",
    "DESCRIPTION  = Superflat with 20 flats at 5000 and 50000 ADU.\n",
    "LOCATIONS    = R21/Reb0     # Locations to read\n",
    "BCOUNT       = 1            # number of bias frames per flat set\n",
    "WL           = r            # wavelength filter to use for the flats\n",
    "flat = '''+ptc+'''\n",
    "\n",
    "[PERSISTENCEFLATS]\n",
    "ACQTYPE=flat\n",
    "DESCRIPTION  = Superflat with 20 flats at 5000 and 50000 ADU.\n",
    "LOCATIONS    = R21/Reb0     # Locations to read\n",
    "BCOUNT       = 21            # number of bias frames per flat set\n",
    "WL           = r            # wavelength filter to use for the flats\n",
    "flat = '''+persistence+'''  1\n",
    "\n",
    "[PERSISTENCEDARKS]\n",
    "ACQTYPE=dark\n",
    "LOCATIONS=R21/Reb0\n",
    "DESCRIPTION=Darks.\n",
    "BCOUNT=    0      # number of bias frames per dark image\n",
    "dark= 15   40'''\n",
    "    file = open(filename, 'w')\n",
    "    file.write(cfgfile)       \n",
    "    file.close()\n",
    "    return"
   ]
  },
  {
   "cell_type": "code",
   "execution_count": 15,
   "id": "5d3f5b26",
   "metadata": {},
   "outputs": [],
   "source": [
    "file = open('runninglog.cfg', 'w')\n",
    "file.write(cfgfile)       \n",
    "file.close()"
   ]
  },
  {
   "cell_type": "code",
   "execution_count": 10,
   "id": "e163c5bb",
   "metadata": {},
   "outputs": [],
   "source": [
    "def remove_fits_files(imagedir):\n",
    "    subprocess.run('rm '+imagedir+'/TS_C_*',check=True, shell=True)"
   ]
  },
  {
   "cell_type": "code",
   "execution_count": 11,
   "id": "19689fac",
   "metadata": {},
   "outputs": [],
   "source": [
    "def copy_file_to_imagedir(file):\n",
    "    subprocess.run('cp '+file+\" \"+imagedir,check=True, shell=True)"
   ]
  },
  {
   "cell_type": "code",
   "execution_count": null,
   "id": "a29ddde6",
   "metadata": {},
   "outputs": [],
   "source": [
    "def full_gain_calculation():\n",
    "    take_gain_flats(gaincfgfile)\n",
    "    fivethousandlevel=calculate_gains(imagedir)\n",
    "    ptc=find_ptc_values(ptcresolution,fivethousandlevel)\n",
    "    persistence=find_persistence(fivethousandADUintensity,persistenceADUlevel)\n",
    "    cfgwords=make_cfg(sequencercfgfile,fivethousandlevel,lowsuperflatADUlevel,highsuperflatADUlevel,ptc,persistence)\n",
    "    remove_fits_files(imagedir)\n",
    "    copy_file_to_imagedir(sequencercfgfile)"
   ]
  },
  {
   "cell_type": "code",
   "execution_count": 12,
   "id": "c00dc64f",
   "metadata": {},
   "outputs": [],
   "source": [
    "def move_files_to_new_directory(imagedir,sequencerfilename):\n",
    "    subprocess.run('mkdir '+imagedir+\"/\"+sequencerfilename,check=True, shell=True)\n",
    "    subprocess.run('mv '+imagedir+\"/TS_C* \"+imagedir+\"/\"+sequencerfilename,check=True, shell=True)"
   ]
  },
  {
   "cell_type": "code",
   "execution_count": null,
   "id": "32c29460",
   "metadata": {},
   "outputs": [],
   "source": [
    "def full_sequencer_run(sleeptime):\n",
    "    time.sleep(sleeptime)\n",
    "    eWarning(\"Starting new sequencer run.\")\n",
    "    take_data(sequencercfgfile)\n",
    "    copy_file_to_imagedir(sequencercfgfile)\n",
    "    move_files_to_new_directory(imagedir,sequencerfilename)\n",
    "    eWarning(\"Finished sequencer run.\")"
   ]
  },
  {
   "cell_type": "code",
   "execution_count": 3,
   "id": "1c371be9",
   "metadata": {},
   "outputs": [],
   "source": [
    "def get_sequencer_from_header():\n",
    "    fitsfiles=np.array(glob.glob(imagedir+'/*.fits'))\n",
    "    headerseq=fits.getheader(fitsfiles[0])[\"SEQFILE\"]\n",
    "    return headerseq\n",
    "    "
   ]
  },
  {
   "cell_type": "code",
   "execution_count": 4,
   "id": "696990ac",
   "metadata": {},
   "outputs": [],
   "source": [
    "seq=get_sequencer_from_header()"
   ]
  },
  {
   "cell_type": "code",
   "execution_count": 7,
   "id": "f7c4c416",
   "metadata": {},
   "outputs": [
    {
     "data": {
      "text/plain": [
       "False"
      ]
     },
     "execution_count": 7,
     "metadata": {},
     "output_type": "execute_result"
    }
   ],
   "source": [
    "seq!=\"FP_E2V_2s_ir2_v27_rt450\"+\".seq\""
   ]
  },
  {
   "cell_type": "code",
   "execution_count": 2,
   "id": "71511576",
   "metadata": {},
   "outputs": [],
   "source": [
    "def power_CCD(state):\n",
    "    if state==\"off\" or state==\"OFF\" or state==\"Off\":\n",
    "        subprocess.run('ccs-script /home/ccd/ucd-scripts/scripts/setBackBias.py R21 --off',check=True, shell=True)\n",
    "        time.sleep(2)\n",
    "        subprocess.run('ccs-script /home/ccd/ucd-scripts/scripts/powerCCD.py R21 --off',check=True, shell=True)\n",
    "    elif state==\"on\" or state==\"ON\" or state==\"On\":\n",
    "        subprocess.run('ccs-script /home/ccd/ucd-scripts/scripts/powerCCD.py R21 --on',check=True, shell=True)\n",
    "        time.sleep(2)\n",
    "        subprocess.run('ccs-script /home/ccd/ucd-scripts/scripts/setBackBias.py R21 --on',check=True, shell=True)"
   ]
  },
  {
   "cell_type": "code",
   "execution_count": 3,
   "id": "3e526778",
   "metadata": {},
   "outputs": [
    {
     "name": "stderr",
     "output_type": "stream",
     "text": [
      "[2023-12-10T15:06:29.671PST] WARNING: Unable to read default leap second file, falling back to reading local copy from bootstrap path (org.lsst.ccs.utilities.taitime.CCSTimeStamp <clinit>)\n",
      "[2023-12-10T15:06:29.688PST] SEVERE: Leap second data read from file:/home/ccd/ccs/org-lsst-ccs-ucd-software-main-1.0.0-SNAPSHOT/etc/leap-seconds.list has expired (org.lsst.ccs.utilities.taitime.CCSTimeStamp <clinit>)\n"
     ]
    },
    {
     "name": "stdout",
     "output_type": "stream",
     "text": [
      "True\n"
     ]
    },
    {
     "name": "stderr",
     "output_type": "stream",
     "text": [
      "[2023-12-10T15:06:38.265PST] WARNING: Unable to read default leap second file, falling back to reading local copy from bootstrap path (org.lsst.ccs.utilities.taitime.CCSTimeStamp <clinit>)\n",
      "[2023-12-10T15:06:38.276PST] SEVERE: Leap second data read from file:/home/ccd/ccs/org-lsst-ccs-ucd-software-main-1.0.0-SNAPSHOT/etc/leap-seconds.list has expired (org.lsst.ccs.utilities.taitime.CCSTimeStamp <clinit>)\n"
     ]
    },
    {
     "name": "stdout",
     "output_type": "stream",
     "text": [
      "BSS supply on.\n",
      "True\n",
      "Setting back bias switch on.\n",
      "True\n"
     ]
    }
   ],
   "source": [
    "power_CCD(\"on\")"
   ]
  },
  {
   "cell_type": "code",
   "execution_count": 4,
   "id": "a9ddcc5d",
   "metadata": {},
   "outputs": [
    {
     "name": "stderr",
     "output_type": "stream",
     "text": [
      "[2023-12-10T15:06:58.788PST] WARNING: Unable to read default leap second file, falling back to reading local copy from bootstrap path (org.lsst.ccs.utilities.taitime.CCSTimeStamp <clinit>)\n",
      "[2023-12-10T15:06:58.802PST] SEVERE: Leap second data read from file:/home/ccd/ccs/org-lsst-ccs-ucd-software-main-1.0.0-SNAPSHOT/etc/leap-seconds.list has expired (org.lsst.ccs.utilities.taitime.CCSTimeStamp <clinit>)\n"
     ]
    },
    {
     "name": "stdout",
     "output_type": "stream",
     "text": [
      "Setting back bias switch off.\n",
      "BSS supply off.\n",
      "True\n",
      "True\n"
     ]
    },
    {
     "name": "stderr",
     "output_type": "stream",
     "text": [
      "[2023-12-10T15:07:05.646PST] WARNING: Unable to read default leap second file, falling back to reading local copy from bootstrap path (org.lsst.ccs.utilities.taitime.CCSTimeStamp <clinit>)\n",
      "[2023-12-10T15:07:05.666PST] SEVERE: Leap second data read from file:/home/ccd/ccs/org-lsst-ccs-ucd-software-main-1.0.0-SNAPSHOT/etc/leap-seconds.list has expired (org.lsst.ccs.utilities.taitime.CCSTimeStamp <clinit>)\n"
     ]
    },
    {
     "name": "stdout",
     "output_type": "stream",
     "text": [
      "Waiting 5.0 seconds.\n",
      "CCD power off.\n",
      "True\n"
     ]
    }
   ],
   "source": [
    "power_CCD(\"off\")"
   ]
  },
  {
   "cell_type": "code",
   "execution_count": 128,
   "id": "982a21a7",
   "metadata": {},
   "outputs": [],
   "source": [
    "def change_sequencer(sequencer):\n",
    "    text='''set target ucd-fp\n",
    "\n",
    "sequencerConfig change sequencer [E2V:FP_E2V_2s_ir2_'''+sequencer+'''.seq,ITL:FP_ITL_2s_ir2_'''+sequencer+'''.seq]\n",
    "\n",
    "printConfigurationParameters Sequencer'''\n",
    "    file = open(\"ccssequencercommands.txt\", 'w')\n",
    "    file.write(text)       \n",
    "    file.close()\n",
    "    \n",
    "    output=subprocess.check_output([\"/home/ccd/ccs/bin/ccs-shell <ccssequencercommands.txt\"],shell=True)\n",
    "    return output"
   ]
  },
  {
   "cell_type": "code",
   "execution_count": 90,
   "id": "e06505e2",
   "metadata": {},
   "outputs": [],
   "source": [
    "def check_sequencer():\n",
    "    output=subprocess.check_output([\"/home/ccd/ccs/bin/ccs-shell <ccssequencercheck.txt\"],shell=True)\n",
    "    output=str(output)\n",
    "    output=output.split(\"\\\\n\")\n",
    "    output=output[-11]\n",
    "    output=output.split(\"ir2_\")\n",
    "    ITLseqreturn=output[2][:-6]\n",
    "    e2vseqreturn=output[1].split(\".seq\")\n",
    "    e2vseqreturn=e2vseqreturn[0]\n",
    "    return e2vseqreturn,ITLseqreturn"
   ]
  },
  {
   "cell_type": "code",
   "execution_count": 107,
   "id": "e914aee2",
   "metadata": {},
   "outputs": [
    {
     "name": "stderr",
     "output_type": "stream",
     "text": [
      "[2023-12-10T17:17:09.820PST] WARNING: Unable to read default leap second file, falling back to reading local copy from bootstrap path (org.lsst.ccs.utilities.taitime.CCSTimeStamp <clinit>)\n",
      "[2023-12-10T17:17:09.834PST] SEVERE: Leap second data read from file:/home/ccd/ccs/org-lsst-ccs-ucd-software-main-1.0.0-SNAPSHOT/etc/leap-seconds.list has expired (org.lsst.ccs.utilities.taitime.CCSTimeStamp <clinit>)\n"
     ]
    }
   ],
   "source": [
    "a=check_sequencer()"
   ]
  },
  {
   "cell_type": "code",
   "execution_count": 108,
   "id": "34fef10b",
   "metadata": {},
   "outputs": [
    {
     "data": {
      "text/plain": [
       "('v26', 'v26')"
      ]
     },
     "execution_count": 108,
     "metadata": {},
     "output_type": "execute_result"
    }
   ],
   "source": [
    "a"
   ]
  },
  {
   "cell_type": "code",
   "execution_count": 56,
   "id": "a334da3e",
   "metadata": {},
   "outputs": [],
   "source": [
    "b=b.split(\"\\\\n\")"
   ]
  },
  {
   "cell_type": "code",
   "execution_count": 57,
   "id": "e29079e3",
   "metadata": {},
   "outputs": [
    {
     "data": {
      "text/plain": [
       "[\"b'Type help for list of available commands\",\n",
       " ' ccs>set target ucd-fp',\n",
       " 'ucd-fp ccs>',\n",
       " 'ucd-fp ccs>printConfigurationParameters Sequencer',\n",
       " 'Category : Sequencer',\n",
       " 'sequencerConfig clearCountParameter ClearCount unitless',\n",
       " 'sequencerConfig clearMain Clear unitless',\n",
       " 'sequencerConfig idleFlushMain Idle unitless',\n",
       " 'sequencerConfig idleFlushTimeout -1 unitless',\n",
       " 'sequencerConfig integrateMain Integrate unitless',\n",
       " 'sequencerConfig metaDataRegisters [UnderCols,PreCols,ReadCols,PostCols,ReadCols2,OverCols,PreRows,ReadRows,PostRows,OverRows,OpFlags] ',\n",
       " 'sequencerConfig overCols -1 ',\n",
       " 'sequencerConfig overRows -1 ',\n",
       " 'sequencerConfig postCols -1 ',\n",
       " 'sequencerConfig postRows -1 ',\n",
       " 'sequencerConfig preCols -1 ',\n",
       " 'sequencerConfig preRows -1 ',\n",
       " 'sequencerConfig pseudoReadMain PseudoRead unitless',\n",
       " 'sequencerConfig readCols -1 ',\n",
       " 'sequencerConfig readCols2 -1 ',\n",
       " 'sequencerConfig readMain Read unitless',\n",
       " 'sequencerConfig readRows -1 ',\n",
       " 'sequencerConfig rowShiftForwardMain RowShiftF unitless',\n",
       " 'sequencerConfig rowShiftReverseMain RowShiftR unitless',\n",
       " 'sequencerConfig scanMode false unitless',\n",
       " 'sequencerConfig sequencer [E2V:FP_E2V_2s_ir2_v26.seq,ITL:FP_ITL_2s_ir2_v26.seq] ',\n",
       " 'sequencerConfig sequencerChecksums [E2V:3099412345,ITL:980618532]  (read-only)',\n",
       " 'sequencerConfig shiftCountParameter ShiftCount unitless',\n",
       " 'sequencerConfig stepAfterIntegrate false unitless',\n",
       " 'sequencerConfig transparentMode -1 unitless',\n",
       " 'sequencerConfig underCols -1 ',\n",
       " 'sequencerConfig useParallelRegisters false unitless',\n",
       " '',\n",
       " '',\n",
       " 'ucd-fp ccs>',\n",
       " \"'\"]"
      ]
     },
     "execution_count": 57,
     "metadata": {},
     "output_type": "execute_result"
    }
   ],
   "source": [
    "b"
   ]
  },
  {
   "cell_type": "code",
   "execution_count": 66,
   "id": "df962135",
   "metadata": {},
   "outputs": [],
   "source": [
    "c=b[-11]"
   ]
  },
  {
   "cell_type": "code",
   "execution_count": 68,
   "id": "33156006",
   "metadata": {},
   "outputs": [],
   "source": [
    "d=c.split(\"ir2_\")"
   ]
  },
  {
   "cell_type": "code",
   "execution_count": 72,
   "id": "1c679f03",
   "metadata": {},
   "outputs": [
    {
     "data": {
      "text/plain": [
       "'v26'"
      ]
     },
     "execution_count": 72,
     "metadata": {},
     "output_type": "execute_result"
    }
   ],
   "source": [
    "d[2][:-6]"
   ]
  },
  {
   "cell_type": "code",
   "execution_count": 75,
   "id": "12f78841",
   "metadata": {},
   "outputs": [],
   "source": [
    "e=d[1].split(\".seq\")"
   ]
  },
  {
   "cell_type": "code",
   "execution_count": 76,
   "id": "105001f1",
   "metadata": {},
   "outputs": [
    {
     "data": {
      "text/plain": [
       "['v26', ',ITL:FP_ITL_2s_']"
      ]
     },
     "execution_count": 76,
     "metadata": {},
     "output_type": "execute_result"
    }
   ],
   "source": [
    "e"
   ]
  },
  {
   "cell_type": "code",
   "execution_count": 129,
   "id": "8b056617",
   "metadata": {},
   "outputs": [
    {
     "name": "stderr",
     "output_type": "stream",
     "text": [
      "[2023-12-10T17:24:34.957PST] WARNING: Unable to read default leap second file, falling back to reading local copy from bootstrap path (org.lsst.ccs.utilities.taitime.CCSTimeStamp <clinit>)\n",
      "[2023-12-10T17:24:34.971PST] SEVERE: Leap second data read from file:/home/ccd/ccs/org-lsst-ccs-ucd-software-main-1.0.0-SNAPSHOT/etc/leap-seconds.list has expired (org.lsst.ccs.utilities.taitime.CCSTimeStamp <clinit>)\n"
     ]
    }
   ],
   "source": [
    "a=change_sequencer(\"v27_rt450\")"
   ]
  },
  {
   "cell_type": "code",
   "execution_count": 131,
   "id": "225e1a7d",
   "metadata": {},
   "outputs": [
    {
     "name": "stderr",
     "output_type": "stream",
     "text": [
      "[2023-12-10T17:26:21.812PST] WARNING: Unable to read default leap second file, falling back to reading local copy from bootstrap path (org.lsst.ccs.utilities.taitime.CCSTimeStamp <clinit>)\n",
      "[2023-12-10T17:26:21.825PST] SEVERE: Leap second data read from file:/home/ccd/ccs/org-lsst-ccs-ucd-software-main-1.0.0-SNAPSHOT/etc/leap-seconds.list has expired (org.lsst.ccs.utilities.taitime.CCSTimeStamp <clinit>)\n"
     ]
    },
    {
     "data": {
      "text/plain": [
       "True"
      ]
     },
     "execution_count": 131,
     "metadata": {},
     "output_type": "execute_result"
    }
   ],
   "source": [
    "a=check_sequencer()\n",
    "'v27_rt450'==a[0]==a[1]"
   ]
  },
  {
   "cell_type": "code",
   "execution_count": 89,
   "id": "aaf712fe",
   "metadata": {},
   "outputs": [
    {
     "data": {
      "text/plain": [
       "'v27_rt450'"
      ]
     },
     "execution_count": 89,
     "metadata": {},
     "output_type": "execute_result"
    }
   ],
   "source": [
    "e2vseqreturn"
   ]
  },
  {
   "cell_type": "code",
   "execution_count": 132,
   "id": "e1de768e",
   "metadata": {},
   "outputs": [
    {
     "data": {
      "text/plain": [
       "False"
      ]
     },
     "execution_count": 132,
     "metadata": {},
     "output_type": "execute_result"
    }
   ],
   "source": [
    "not 1==1==1"
   ]
  },
  {
   "cell_type": "code",
   "execution_count": 139,
   "id": "33fd750b",
   "metadata": {},
   "outputs": [],
   "source": [
    "sequencerlist=[\"v26\",\"v27_rt150\",\"v27_rt300\",\"v27_rt450\",\"v27_rt600\",\"v27_rt750\",\"v27_rt750_iso1_140\",\"v27_rt750_iso1_210\",\"v27_rt750_iso1_70\",\"v27_rt750_iso2_150\",\"v27_rt750_iso2_300\",\"v27_rt750_iso2_450\"]"
   ]
  },
  {
   "cell_type": "code",
   "execution_count": 135,
   "id": "57037344",
   "metadata": {},
   "outputs": [],
   "source": [
    "def full_sequencer_run(sleeptime):\n",
    "    print(\"Get outta there! Sleeping for \"+str(sleeptime)+\"s\")\n",
    "    time.sleep(sleeptime)\n",
    "    eWarning(\"Starting new sequencer run.\")\n",
    "    i=1\n",
    "    length=str(len(sequencerlist))\n",
    "    for sequencerfilename in sequencerlist:\n",
    "        change_sequencer(sequencerfilename)\n",
    "        time.sleep(5)\n",
    "        check=check_sequencer()\n",
    "        if not check[0]==check[1]==sequencerfilename:\n",
    "            eWarning(\"The sequencer updated incorrectly for \"+str(sequencerfilename))\n",
    "            time.sleep(2)\n",
    "            raise Exception(\"The sequencer updated incorrectly for \"+str(sequencerfilename))\n",
    "        try:\n",
    "            power_CCD(\"on\")\n",
    "            take_data(sequencercfgfile)\n",
    "            sequencer=\"FP_E2V_2s_ir2_\"+sequencerfilename+\".seq\"\n",
    "            seq=get_sequencer_from_header()\n",
    "            if sequencer!=seq:\n",
    "                eWarning(\"The sequencer file is not correct in the header for \"+str(sequencerfilename))\n",
    "                time.sleep(2)\n",
    "                raise Exception(\"Sequencer file not correct in the header!\")\n",
    "            copy_file_to_imagedir(sequencercfgfile)\n",
    "            move_files_to_new_directory(imagedir,sequencerfilename)\n",
    "            power_CCD(\"off\")\n",
    "            eWarning(\"Finished sequencer run for \"++str(sequencerfilename)+\" \"+str(i)+\"/\"+length)\n",
    "            i+=1\n",
    "        except:\n",
    "            eWarning(\"Error in sequencer run on \"+str(sequencerfilename))\n",
    "            raise Exception(\"Error in sequencer run on \"+str(sequencerfilename))"
   ]
  },
  {
   "cell_type": "code",
   "execution_count": 140,
   "id": "2d6a9e1a",
   "metadata": {},
   "outputs": [
    {
     "name": "stdout",
     "output_type": "stream",
     "text": [
      "v26\n",
      "v27_rt150\n",
      "v27_rt300\n",
      "v27_rt450\n",
      "v27_rt600\n",
      "v27_rt750\n",
      "v27_rt750_iso1_140\n",
      "v27_rt750_iso1_210\n",
      "v27_rt750_iso1_70\n",
      "v27_rt750_iso2_150\n",
      "v27_rt750_iso2_300\n",
      "v27_rt750_iso2_450\n"
     ]
    }
   ],
   "source": [
    "for i in sequencerlist:\n",
    "    print(i)"
   ]
  },
  {
   "cell_type": "code",
   "execution_count": 9,
   "id": "f55ce443",
   "metadata": {},
   "outputs": [],
   "source": [
    "topint=20*5\n",
    "minlamp=15\n",
    "minexp=1.0\n",
    "maxexp=15.0\n",
    "maxlamp=67.9\n",
    "bad1=6.4\n",
    "bad2=12\n",
    "ints=np.linspace(0.3,topint,40)\n",
    "\n",
    "#flat pairs\n",
    "exp=minexp\n",
    "explist=[]\n",
    "\n",
    "for i in ints:\n",
    "    if minlamp<=i/exp<=bad1 or bad2<=i/exp<=maxlamp:\n",
    "        explist.append(str(exp)+\"   \"+str(\"{:.2f}\".format(i/exp))+\",\")\n",
    "    elif bad1<=i/exp<=bad2:\n",
    "        explist.append(str(exp*2)+\"   \"+str(\"{:.2f}\".format(i/(exp*2)))+\",\")\n",
    "    elif i/exp>=maxlamp:\n",
    "        while i/exp>=maxlamp:\n",
    "            exp+=0.5\n",
    "        explist.append(str(exp)+\"   \"+str(\"{:.2f}\".format(i/exp))+\",\")\n",
    "random.shuffle(explist)\n",
    "explist[-1]=explist[-1][:-1]\n",
    "ptcintensities=explist[0]\n",
    "for i in explist[1:]:\n",
    "    ptcintensities=ptcintensities+'''\n",
    "'''+i"
   ]
  },
  {
   "cell_type": "code",
   "execution_count": 10,
   "id": "dbcc677d",
   "metadata": {},
   "outputs": [
    {
     "data": {
      "text/plain": [
       "'1.5   46.22,\\n1.0   61.65,\\n1.0   46.32,\\n1.0   18.19,\\n1.0   20.75,\\n1.0   30.98,\\n1.5   53.03,\\n1.0   43.76,\\n1.5   59.85,\\n1.0   51.43,\\n1.5   64.96,\\n1.0   23.31,\\n1.0   59.10,\\n1.0   56.54,\\n1.0   66.77,\\n1.5   49.62,\\n1.5   61.55,\\n1.5   66.67,\\n1.0   25.86,\\n1.0   53.98,\\n2.0   5.26,\\n1.5   58.15,\\n1.5   63.26,\\n1.5   56.44,\\n2.0   3.98,\\n1.0   15.64,\\n1.5   54.74,\\n1.0   38.65,\\n1.0   48.87,\\n1.0   33.53,\\n1.0   13.08,\\n1.5   51.33,\\n1.0   28.42,\\n1.0   41.20,\\n1.5   47.92,\\n1.0   64.21,\\n1.0   36.09'"
      ]
     },
     "execution_count": 10,
     "metadata": {},
     "output_type": "execute_result"
    }
   ],
   "source": [
    "ptcintensities"
   ]
  },
  {
   "cell_type": "code",
   "execution_count": 11,
   "id": "41c679ff",
   "metadata": {},
   "outputs": [],
   "source": [
    "file = open(\"tester.txt\", 'w')\n",
    "file.write(ptcintensities)       \n",
    "file.close()"
   ]
  },
  {
   "cell_type": "code",
   "execution_count": null,
   "id": "81214a9b",
   "metadata": {},
   "outputs": [],
   "source": []
  }
 ],
 "metadata": {
  "kernelspec": {
   "display_name": "Python 3 (ipykernel)",
   "language": "python",
   "name": "python3"
  },
  "language_info": {
   "codemirror_mode": {
    "name": "ipython",
    "version": 3
   },
   "file_extension": ".py",
   "mimetype": "text/x-python",
   "name": "python",
   "nbconvert_exporter": "python",
   "pygments_lexer": "ipython3",
   "version": "3.8.10"
  }
 },
 "nbformat": 4,
 "nbformat_minor": 5
}
